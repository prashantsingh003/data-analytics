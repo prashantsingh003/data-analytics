{
 "cells": [
  {
   "cell_type": "code",
   "execution_count": 8,
   "id": "36bab6e6-aeb1-408a-9a41-8e53889286e7",
   "metadata": {},
   "outputs": [],
   "source": [
    "import requests\n",
    "import json\n",
    "import re"
   ]
  },
  {
   "cell_type": "code",
   "execution_count": 49,
   "id": "0d959d2f-2711-4cf5-9205-1e00565a7f44",
   "metadata": {},
   "outputs": [],
   "source": [
    "url_by_pin = lambda pincode: f\"https://api.postalpincode.in/pincode/{pincode}\"\n",
    "url_by_city = lambda city_name: f\"https://api.postalpincode.in/postoffice/{city_name}\"\n",
    "get_pincode = lambda text : re.findall(r'\\b\\d{6}\\b', text)"
   ]
  },
  {
   "cell_type": "code",
   "execution_count": 3,
   "id": "49a1f2c9-020b-464e-b1e6-125f157b8ea9",
   "metadata": {},
   "outputs": [],
   "source": [
    "pin=135001\n",
    "city=\"delhi\"\n",
    "correct_adrs=[\n",
    "    \"2nd Phase, 374/B, 80 Feet Rd, Mysore Bank Colony, Banashankari 3rd Stage, Srinivasa Nagar, Bengaluru, Karnataka 560050\",\n",
    "    \"2nd Phase, 374/B, 80 Feet Rd, Bank Colony, Banashankari 3rd Stage, Srinivasa Nagar, Bengaluru, Karnataka 560050\",\n",
    "    \"374/B, 80 Feet Rd, State Bank Colony, Banashankari 3rd Stage, Srinivasa Nagar, Bangalore. 560050\",\n",
    "]\n",
    "incorrect_adrs=[\n",
    "    \"2nd Phase, 374/B, 80 Feet Rd, Mysore Bank Colony, Banashankari 3rd Stage, Srinivasa Nagar, Bengaluru, Karnataka 560095\",\n",
    "    \"Colony, Bengaluru, Karnataka 560050\"\n",
    "]\n",
    "cities=[\"Andaman & Nicobar\",\"Andhra Pradesh\",\"Arunachal Pradesh\",\"Assam\",\"Bihar\",\"Chandigarh\",\"Chattisgarh\",\"Dadra & Nagar Haveli\",\"Daman & Diu\",\"Delhi\",\"Goa\",\"Gujarat\",\"Haryana\",\"Himachal Pradesh\",\"Jammu & Kashmir\",\"Jharkhand\",\"Karnataka\",\"Kerala\",\"Lakshadweep\",\"Madhya Pradesh\",\"Maharashtra\",\"Manipur\",\"Meghalaya\",\"Mizoram\",\"Nagaland\",\"Odisha\",\"Pondicherry\",\"Punjab\",\"Rajasthan\",\"Sikkim\",\"Tamil Nadu\",\"Telangana\",\"Tripura\",\"Uttar Pradesh\",\"Uttarakhand\",\"West Bengal\"]"
   ]
  },
  {
   "cell_type": "code",
   "execution_count": 4,
   "id": "fcb00606-e1e9-4a10-9c7b-c995a7425d54",
   "metadata": {},
   "outputs": [],
   "source": [
    "def print_json(payload):\n",
    "    print(json.dumps(payload,indent=2))"
   ]
  },
  {
   "cell_type": "code",
   "execution_count": 24,
   "id": "204daeba-1614-46b3-be96-bb406369bdae",
   "metadata": {},
   "outputs": [],
   "source": [
    "def offices_by_pin(pin):\n",
    "    res=requests.get(url_by_pin(pin))\n",
    "    res=res.json()[0]\n",
    "    # print_json(res)\n",
    "    if res.get(\"Status\")!='Success':\n",
    "        print_json(res)\n",
    "        return []\n",
    "    return res.get(\"PostOffice\")"
   ]
  },
  {
   "cell_type": "code",
   "execution_count": 50,
   "id": "9b653d80-c2d0-49e1-ae1d-b13fc3461c62",
   "metadata": {},
   "outputs": [],
   "source": [
    "def offices_by_city(name):\n",
    "    res=requests.get(url_by_city(name))\n",
    "    res=res.json()[0]\n",
    "    # print_json(res)\n",
    "    if res.get(\"Status\")!='Success':\n",
    "        print_json(res)\n",
    "        return None\n",
    "    return res.get(\"PostOffice\")"
   ]
  },
  {
   "cell_type": "code",
   "execution_count": null,
   "id": "720c9242-9c54-4648-b305-06e7bc056f57",
   "metadata": {},
   "outputs": [],
   "source": [
    "Name \n",
    "Description\n",
    "BranchType\n",
    "DeliveryStatus\n",
    "Circle ****\n",
    "District ****\n",
    "Division ***\n",
    "Region ***\n",
    "Block ***\n",
    "State ***\n",
    "Country\n",
    "Pincode"
   ]
  },
  {
   "cell_type": "code",
   "execution_count": 56,
   "id": "1b4e03ee-84ed-402f-a9e1-eb1868208778",
   "metadata": {},
   "outputs": [
    {
     "name": "stdout",
     "output_type": "stream",
     "text": [
      "[{'Name': 'Central University of Karnataka,Kad', 'Description': None, 'BranchType': 'Sub Post Office', 'DeliveryStatus': 'Delivery', 'Circle': 'Karnataka', 'District': 'Gulbarga', 'Division': 'Gulbarga', 'Region': 'North Karnataka', 'State': 'Karnataka', 'Country': 'India', 'Pincode': '585367'}, {'Name': 'Karnataka Health Institute', 'Description': None, 'BranchType': 'Branch Post Office', 'DeliveryStatus': 'Non-Delivery', 'Circle': 'Karnataka', 'District': 'Belgaum', 'Division': 'Gokak', 'Region': 'North Karnataka', 'State': 'Karnataka', 'Country': 'India', 'Pincode': '591306'}, {'Name': 'Karnataka Janapada Vishwa Vidyalaya Gotagodi', 'Description': None, 'BranchType': 'Sub Post Office', 'DeliveryStatus': 'Delivery', 'Circle': 'Karnataka', 'District': 'Haveri', 'Division': 'Haveri', 'Region': 'North Karnataka', 'State': 'Karnataka', 'Country': 'India', 'Pincode': '581197'}]\n"
     ]
    }
   ],
   "source": [
    "# print(offices_by_pin(560050))\n",
    "print(offices_by_city('Karnataka'))"
   ]
  },
  {
   "cell_type": "code",
   "execution_count": 45,
   "id": "aa96d3b6-7958-44b3-8ddc-a36b5f257aac",
   "metadata": {},
   "outputs": [
    {
     "data": {
      "text/plain": [
       "[{'Name': 'Koramangala VI Bk',\n",
       "  'Description': None,\n",
       "  'BranchType': 'Sub Post Office',\n",
       "  'DeliveryStatus': 'Delivery',\n",
       "  'Circle': 'Karnataka',\n",
       "  'District': 'Bangalore',\n",
       "  'Division': 'Bangalore South',\n",
       "  'Region': 'Bangalore HQ',\n",
       "  'Block': 'Bangalore South',\n",
       "  'State': 'Karnataka',\n",
       "  'Country': 'India',\n",
       "  'Pincode': '560095'}]"
      ]
     },
     "execution_count": 45,
     "metadata": {},
     "output_type": "execute_result"
    }
   ],
   "source": [
    "pin=get_pincode(incorrect_adrs[0])\n",
    "pin = pin[-1] if len(pin)>0 else None\n",
    "offices_by_pin(pin)"
   ]
  },
  {
   "cell_type": "code",
   "execution_count": null,
   "id": "0e2b8439-b8be-46af-a112-61defea68c24",
   "metadata": {},
   "outputs": [],
   "source": [
    "matches = re.findall(pattern, text)"
   ]
  }
 ],
 "metadata": {
  "kernelspec": {
   "display_name": "Python 3 (ipykernel)",
   "language": "python",
   "name": "python3"
  },
  "language_info": {
   "codemirror_mode": {
    "name": "ipython",
    "version": 3
   },
   "file_extension": ".py",
   "mimetype": "text/x-python",
   "name": "python",
   "nbconvert_exporter": "python",
   "pygments_lexer": "ipython3",
   "version": "3.10.12"
  }
 },
 "nbformat": 4,
 "nbformat_minor": 5
}
