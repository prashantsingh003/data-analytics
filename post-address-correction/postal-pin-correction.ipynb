{
 "cells": [
  {
   "cell_type": "code",
   "execution_count": 2,
   "id": "36bab6e6-aeb1-408a-9a41-8e53889286e7",
   "metadata": {},
   "outputs": [],
   "source": [
    "import requests\n",
    "import json\n",
    "import re"
   ]
  },
  {
   "cell_type": "markdown",
   "id": "1cd409d9",
   "metadata": {},
   "source": [
    "# Global Variables \n",
    "### ( FOR STATIC USE )"
   ]
  },
  {
   "cell_type": "code",
   "execution_count": 107,
   "id": "49a1f2c9-020b-464e-b1e6-125f157b8ea9",
   "metadata": {},
   "outputs": [],
   "source": [
    "correct_adrs=[\n",
    "    \"2nd Phase, 374/B, 80 Feet Rd, Mysore Bank Colony, Banashankari 3rd Stage, Srinivasa Nagar, Bengaluru, Karnataka 560050\",\n",
    "    \"2nd Phase, 374/B, 80 Feet Rd, Bank Colony, Banashankari 3rd Stage, Srinivasa Nagar, Bengaluru, Karnataka 560050\",\n",
    "    \"374/B, 80 Feet Rd, State Bank Colony, Banashankari 3rd Stage, Srinivasa Nagar, Bangalore. 560050\",\n",
    "]\n",
    "incorrect_adrs=[\n",
    "    \"2nd Phase, 374/B, 80 Feet Rd, Mysore Bank Colony, Banashankari 3rd Stage, Srinivasa Nagar, Bengaluru, Karnataka 560095\",\n",
    "    \"Colony, Bengaluru, Karnataka 560050\"\n",
    "]\n",
    "states=[\"Andaman & Nicobar\",\"Andhra Pradesh\",\"Arunachal Pradesh\",\"Assam\",\"Bihar\",\"Chandigarh\",\"Chattisgarh\",\"Dadra & Nagar Haveli\",\"Daman & Diu\",\"Delhi\",\"Goa\",\"Gujarat\",\"Haryana\",\"Himachal Pradesh\",\"Jammu & Kashmir\",\"Jharkhand\",\"Karnataka\",\"Kerala\",\"Lakshadweep\",\"Madhya Pradesh\",\"Maharashtra\",\"Manipur\",\"Meghalaya\",\"Mizoram\",\"Nagaland\",\"Odisha\",\"Pondicherry\",\"Punjab\",\"Rajasthan\",\"Sikkim\",\"Tamil Nadu\",\"Telangana\",\"Tripura\",\"Uttar Pradesh\",\"Uttarakhand\",\"West Bengal\"]\n",
    "res_keys=[\"Description\",\"BranchType\",\"DeliveryStatus\",\"Circle\",\"District\",\"Division\",\"Region\",\"Block\",\"State\",\"Country\",\"Pincode\"]"
   ]
  },
  {
   "cell_type": "markdown",
   "id": "a25a3339",
   "metadata": {},
   "source": [
    "# Utility Functions"
   ]
  },
  {
   "cell_type": "code",
   "execution_count": 133,
   "id": "632e3dc1",
   "metadata": {},
   "outputs": [],
   "source": [
    "url_by_pin = lambda pincode: f\"https://api.postalpincode.in/pincode/{pincode}\"\n",
    "url_by_city = lambda city_name: f\"https://api.postalpincode.in/postoffice/{city_name}\"\n",
    "get_pincode = lambda text : re.findall(r'\\b\\d{6}\\b', text)\n",
    "substr_in_str = lambda sub_str,string: True if string.lower().find(sub_str.lower())!=-1 else False\n",
    "\n",
    "def print_json(payload):\n",
    "    print(json.dumps(payload,indent=2))\n",
    "\n",
    "# Extracts city from address\n",
    "def get_city(address):\n",
    "    lis=[s.strip() for s in address.split(',')]\n",
    "    last_item=lis[-1]\n",
    "    has_state_name=False\n",
    "    for state in states:\n",
    "        if(substr_in_str(state,last_item)):\n",
    "            has_state_name=True\n",
    "            break\n",
    "    city = lis[-3] if has_state_name else lis[-2]\n",
    "    return city\n",
    "\n",
    "# Extracts street name from address\n",
    "\"\"\"\n",
    "Works on the logic:\n",
    "Splits based on commas and remove white spaces\n",
    "Returns the first index where all characters are alphabet\n",
    "\"\"\"\n",
    "def get_street_from_address(address):\n",
    "    pattern = \"^[a-zA-Z\\s]+$\"\n",
    "    lis=[s.strip() for s in address.split(',')]\n",
    "    for item in lis:\n",
    "        if re.match(pattern, item):\n",
    "            return item"
   ]
  },
  {
   "cell_type": "markdown",
   "id": "22a81ee9",
   "metadata": {},
   "source": [
    "# Api Based Fuctions"
   ]
  },
  {
   "cell_type": "code",
   "execution_count": 66,
   "id": "fcb00606-e1e9-4a10-9c7b-c995a7425d54",
   "metadata": {},
   "outputs": [],
   "source": [
    "# FUNCTION TO RETURN POST OFFICES BY PINCODE \n",
    "def offices_by_pin(pin):\n",
    "    res=requests.get(url_by_pin(pin))\n",
    "    res=res.json()[0]\n",
    "    # print_json(res)\n",
    "    if res.get(\"Status\")!='Success':\n",
    "        print_json(res)\n",
    "        return []\n",
    "    return res.get(\"PostOffice\")\n",
    "\n",
    "# FUNCTION TO RETURN POST OFFICES BY NAME \n",
    "def offices_by_city(name):\n",
    "    res=requests.get(url_by_city(name))\n",
    "    res=res.json()[0]\n",
    "    # print_json(res)\n",
    "    if res.get(\"Status\")!='Success':\n",
    "        print_json(res)\n",
    "        return None\n",
    "    return res.get(\"PostOffice\")"
   ]
  },
  {
   "cell_type": "code",
   "execution_count": 127,
   "id": "1b4e03ee-84ed-402f-a9e1-eb1868208778",
   "metadata": {},
   "outputs": [],
   "source": [
    "# print(offices_by_pin(560050))\n",
    "# offices_by_city('Srinivasa Nagar')"
   ]
  },
  {
   "cell_type": "markdown",
   "id": "4aed10ed",
   "metadata": {},
   "source": [
    "# Api Response Structure \n",
    "### (Single Array Element)"
   ]
  },
  {
   "cell_type": "code",
   "execution_count": 126,
   "id": "839de0c8",
   "metadata": {},
   "outputs": [
    {
     "data": {
      "text/plain": [
       "{'Name': 'Srinivasa Nagar Colony',\n",
       " 'Description': None,\n",
       " 'BranchType': 'Branch Post Office',\n",
       " 'DeliveryStatus': 'Delivery',\n",
       " 'Circle': 'Andhra Pradesh',\n",
       " 'District': 'Krishna',\n",
       " 'Division': 'Vijayawada',\n",
       " 'Region': 'Vijayawada',\n",
       " 'State': 'Andhra Pradesh',\n",
       " 'Country': 'India',\n",
       " 'Pincode': '521175'}"
      ]
     },
     "execution_count": 126,
     "metadata": {},
     "output_type": "execute_result"
    }
   ],
   "source": [
    " {'Name': 'Srinivasa Nagar Colony',\n",
    "  'Description': None,\n",
    "  'BranchType': 'Branch Post Office',\n",
    "  'DeliveryStatus': 'Delivery',\n",
    "  'Circle': 'Andhra Pradesh',\n",
    "  'District': 'Krishna',\n",
    "  'Division': 'Vijayawada',\n",
    "  'Region': 'Vijayawada',\n",
    "  'State': 'Andhra Pradesh',\n",
    "  'Country': 'India',\n",
    "  'Pincode': '521175'}"
   ]
  },
  {
   "cell_type": "code",
   "execution_count": 141,
   "id": "5b75dc49",
   "metadata": {},
   "outputs": [],
   "source": [
    "def is_address_valid(address):\n",
    "    address=address.replace('Bengaluru','Bangalore')\n",
    "    pincode=get_pincode(address)[0]\n",
    "    \n",
    "    city=get_city(address)\n",
    "    city_verified=map_calculated_city_and_pincode(city,pincode)\n",
    "    \n",
    "#     offices=offices_by_pin(pincode)\n",
    "#     for office in offices:\n",
    "#         res=match_pin(address,office)\n",
    "    print(address)\n",
    "    print(\"city name:\" + city)\n",
    "    if(not city_verified):\n",
    "        print('------------Address is Invalid-------------------')\n",
    "        return False\n",
    "    print('------------Address is Valid-------------')\n",
    "    return True"
   ]
  },
  {
   "cell_type": "code",
   "execution_count": 128,
   "id": "049d682a",
   "metadata": {},
   "outputs": [],
   "source": [
    "# Checks the pincode from address is presnet in the list of post-offices that we get from API by passing city-name \n",
    "def map_calculated_city_and_pincode(cityname,pincode):\n",
    "    offices=offices_by_city(cityname)\n",
    "    if(offices):\n",
    "        for office in offices:\n",
    "            if(int(office['Pincode'])==pincode):\n",
    "                return True\n",
    "    return False"
   ]
  },
  {
   "cell_type": "code",
   "execution_count": 139,
   "id": "1fbac46d",
   "metadata": {},
   "outputs": [],
   "source": [
    "# INCOMPETE\n",
    "# Points based algorithm to match keys in the address and post-offices recieved by pincode\n",
    "def match_pin(address,office):\n",
    "    state = substr_in_str(address,office['State'])\n",
    "    district = substr_in_str(address,office['District'])\n",
    "    circle = substr_in_str(address,office['Circle'])\n",
    "    print({\"state\":state,\"district\":district,\"circle\":circle})\n",
    "    print_json(office)\n",
    "    "
   ]
  },
  {
   "cell_type": "markdown",
   "id": "8b902192",
   "metadata": {},
   "source": [
    "# Notes\n",
    "<ol>\n",
    "    <li>The algorithym's incomplete and heavily prone to erros</li>\n",
    "    <li>\n",
    "        Current approach:\n",
    "        <br>\n",
    "        <ul>\n",
    "            <li>We exract the pincode and city name from address</li>\n",
    "            <li>Then get the list of post offices in that city</li>\n",
    "            <li>We check if the pincode is present in the list of offices that we get from api</li>\n",
    "            <li>The address is marked valid if the above condition is met and invalid in the opposite case</li>\n",
    "        </ul>\n",
    "    </li>\n",
    "    <li>\n",
    "        Initial approach was to work out a point based system where:\n",
    "        <br>\n",
    "        <ul>\n",
    "            <li>We exract the pincode from address</li>\n",
    "            <li>Then get the list of post offices in that pincode</li>\n",
    "            <li>Then iterate through thoes offices</li>\n",
    "            <li>Each parameter of the office object would have some particular weightage</li>\n",
    "            <li>And based on score we can calculate if the address is valid or not and the accuracy percentage</li>\n",
    "        </ul>\n",
    "    </li>\n",
    "</ol>"
   ]
  },
  {
   "cell_type": "markdown",
   "id": "cc0870b4",
   "metadata": {},
   "source": [
    "# Address Requirements"
   ]
  },
  {
   "cell_type": "markdown",
   "id": "c3e51185",
   "metadata": {},
   "source": [
    "<li>Address third or second last index should be the city name</li>\n",
    "<li>Address must have pincode</li>"
   ]
  },
  {
   "cell_type": "markdown",
   "id": "bce4f810",
   "metadata": {},
   "source": [
    "# Primary Input"
   ]
  },
  {
   "cell_type": "code",
   "execution_count": 142,
   "id": "83599d49",
   "metadata": {},
   "outputs": [
    {
     "name": "stdout",
     "output_type": "stream",
     "text": [
      "2nd Phase, 374/B, 80 Feet Rd, Mysore Bank Colony, Banashankari 3rd Stage, Srinivasa Nagar, Bangalore, Karnataka 560095\n",
      "city name:Srinivasa Nagar\n",
      "------------Address is Invalid-------------------\n"
     ]
    },
    {
     "data": {
      "text/plain": [
       "False"
      ]
     },
     "execution_count": 142,
     "metadata": {},
     "output_type": "execute_result"
    }
   ],
   "source": [
    "address=incorrect_adrs[0]\n",
    "\n",
    "is_address_valid(address)"
   ]
  },
  {
   "cell_type": "code",
   "execution_count": null,
   "id": "80326423",
   "metadata": {},
   "outputs": [],
   "source": []
  }
 ],
 "metadata": {
  "kernelspec": {
   "display_name": "Python 3 (ipykernel)",
   "language": "python",
   "name": "python3"
  },
  "language_info": {
   "codemirror_mode": {
    "name": "ipython",
    "version": 3
   },
   "file_extension": ".py",
   "mimetype": "text/x-python",
   "name": "python",
   "nbconvert_exporter": "python",
   "pygments_lexer": "ipython3",
   "version": "3.10.12"
  }
 },
 "nbformat": 4,
 "nbformat_minor": 5
}
